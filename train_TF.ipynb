{
 "cells": [
  {
   "cell_type": "markdown",
   "metadata": {},
   "source": [
    "# Assessing quality of CO functionalized tips"
   ]
  },
  {
   "cell_type": "code",
   "execution_count": null,
   "metadata": {
    "colab": {},
    "colab_type": "code",
    "id": "aiARqQvAUCuO"
   },
   "outputs": [],
   "source": [
    "import os\n",
    "import glob\n",
    "import numpy as np\n",
    "from PIL import Image\n",
    "from scipy import misc\n",
    "import matplotlib.pyplot as plt\n",
    "from mpl_toolkits.mplot3d import Axes3D\n",
    "from sklearn.decomposition import PCA\n",
    "from sklearn.manifold import TSNE\n",
    "from matplotlib import cm\n",
    "from utils import *\n",
    "%matplotlib inline"
   ]
  },
  {
   "cell_type": "markdown",
   "metadata": {},
   "source": [
    "## Upload AFM data with bad and good samples of CO-tips\n",
    "Download AFM-data with CO-tips samples from here: https://www.dropbox.com/s/wqhgbvdlfb6snic/datasetNew6.tar.gz?dl=0. Extract the archive and set the path of the directory to the variable path_to_data below."
   ]
  },
  {
   "cell_type": "code",
   "execution_count": 30,
   "metadata": {},
   "outputs": [],
   "source": [
    "path_to_data = './databaseNew6'"
   ]
  },
  {
   "cell_type": "markdown",
   "metadata": {
    "colab_type": "text",
    "id": "p_jHZVAaSz7l"
   },
   "source": [
    "## PCA *analysis* "
   ]
  },
  {
   "cell_type": "code",
   "execution_count": 39,
   "metadata": {
    "colab": {
     "base_uri": "https://localhost:8080/",
     "height": 187
    },
    "colab_type": "code",
    "executionInfo": {
     "elapsed": 320272,
     "status": "ok",
     "timestamp": 1590744753824,
     "user": {
      "displayName": "Zigzag13 Mak13",
      "photoUrl": "",
      "userId": "17521176493425296049"
     },
     "user_tz": -180
    },
    "id": "mRR7_8b5UPxG",
    "outputId": "42407b50-7143-4075-fdbb-799069820db0"
   },
   "outputs": [
    {
     "name": "stdout",
     "output_type": "stream",
     "text": [
      "dataset founded\n",
      "trainY: 204\n",
      "valY: 69\n",
      "testY: 73\n",
      "dataset loaded succesfully\n"
     ]
    }
   ],
   "source": [
    "# Here we generate dataset for PCA and t-SNE analysis. All available images without augumentation are used (enable_rotations = False).\n",
    "\n",
    "save_dir         = './PCA3/'\n",
    "classes          = ['bads', 'goods']\n",
    "crop_size        = 16    # different size images would be transformed to size 32 x 32\n",
    "enable_rotations = False # no augumentation by rotations for PCA analysis\n",
    "enable_flips = False\n",
    "if os.path.exists(save_dir+'dataset_pca.npz'): \n",
    "    # if dataset was generated before, just load it\n",
    "    print ('dataset founded')\n",
    "    try:    \n",
    "        data= np.load(save_dir+'dataset_pca.npz')\n",
    "        trainX=data['trainX']\n",
    "        trainY=data['trainY']\n",
    "        valX=data['valX']\n",
    "        valY=data['valY']\n",
    "        testX=data['testX']\n",
    "        testY=data['testY']\n",
    "        print (f'trainY: {len(trainY)}')    \n",
    "        print (f'valY: {len(valY)}')    \n",
    "        print (f'testY: {len(testY)}')    \n",
    "        print ('dataset loaded succesfully')\n",
    "    except KeyError as e:\n",
    "        print('Could not find filename %s' % e)\n",
    "else:  \n",
    "    #no dataset founded, we generate new one and save it\n",
    "    if not os.path.exists(save_dir):\n",
    "        os.makedirs(save_dir)\n",
    "    # train data\n",
    "    print('gen training data') \n",
    "    trainX, trainY = generate_data_from_images(path_to_data, 'train', classes,crop_size, enable_rotations, enable_flips)\n",
    "    print (f'trainX: {trainX.shape}')\n",
    "    print (f'trainY: {trainY.shape}')\n",
    "\n",
    "    # validation data\n",
    "    print('gen validation data')  \n",
    "    valX, valY     = generate_data_from_images(path_to_data, 'valid', classes,crop_size, enable_rotations, enable_flips)\n",
    "    print (f'valX: {valX.shape}')\n",
    "    print (f'valY: {valY.shape}')\n",
    "\n",
    "    # test data\n",
    "    print('gen test data')  \n",
    "    testX, testY   = generate_data_from_images(path_to_data, 'test2', classes,crop_size, enable_rotations, enable_flips) \n",
    "    print (f'testX: {testX.shape}')\n",
    "    print (f'testY: {testY.shape}')\n",
    "    \n",
    "    # save whole PCA dataset\n",
    "    file_dataset = 'dataset_pca.npz'\n",
    "    np.savez(save_dir+ file_dataset , trainX=trainX,trainY=trainY, valX = valX, valY = valY, testX =testX, testY =testY  )\n",
    "    print (f'dataset saved succesfully to {save_dir+ file_dataset}')\n"
   ]
  },
  {
   "cell_type": "markdown",
   "metadata": {},
   "source": [
    "### Dataset statistic"
   ]
  },
  {
   "cell_type": "code",
   "execution_count": 40,
   "metadata": {},
   "outputs": [
    {
     "name": "stdout",
     "output_type": "stream",
     "text": [
      "[[ 83 121]\n",
      " [ 25  44]\n",
      " [ 36  37]]\n"
     ]
    },
    {
     "data": {
      "image/png": "[encoded data removed]",
      "text/plain": [
       "<Figure size 324x288 with 1 Axes>"
      ]
     },
     "metadata": {
      "needs_background": "light"
     },
     "output_type": "display_data"
    }
   ],
   "source": [
    "# plot dataset sizes\n",
    "import pandas as pd\n",
    "count_tips= []\n",
    "for tip_quality in [trainY, valY,testY]:\n",
    "    count_tips.append([sum(tip_quality == 0),sum(tip_quality == 1)])\n",
    "count_tips = np.array(count_tips, dtype=np.int32)\n",
    "print(count_tips)\n",
    "\n",
    "n_sets = 3\n",
    "# create plot\n",
    "fig = plt.figure(figsize=(4.5,4))\n",
    "index = np.arange(n_sets)\n",
    "bar_width = 0.4\n",
    "opacity = 0.8\n",
    "rects1 = plt.bar(index, count_tips[:,0], bar_width, alpha=opacity, color='b', label='bad CO-tips')\n",
    "rects2 = plt.bar(index + bar_width, count_tips[:,1], bar_width,alpha=opacity, color='g', label='good CO-tips')\n",
    "\n",
    "plt.ylabel('Samples')\n",
    "plt.xlabel('Datasets')\n",
    "plt.title('Sizes of sub datasets')\n",
    "plt.xticks(index + bar_width/2, ('Train', 'Validation', 'Test'))\n",
    "plt.legend()\n",
    "\n",
    "plt.tight_layout()\n",
    "plt.savefig('dataset_statistic.png', bbox_inches='tight', dpi=200)\n",
    "plt.show()\n",
    "plt.close()"
   ]
  },
  {
   "cell_type": "code",
   "execution_count": null,
   "metadata": {},
   "outputs": [],
   "source": [
    "def make_set_plots(path_to_data, set_name, outdir, classes,crop_size, enable_rotations, enable_flips):\n",
    "\n",
    "    dataX = []\n",
    "    dataY = []\n",
    "    file_names = []\n",
    "    z = len(classes)\n",
    "    if (enable_rotations):\n",
    "        amount_rot = 4\n",
    "    else:\n",
    "        amount_rot = 1\n",
    "\n",
    "    for class_ind, cls in enumerate(classes):\n",
    "\n",
    "        images = sorted(glob.glob(path_to_data+'/'+set_name+'/'+cls + '/' +'*.png'))\n",
    "        for image_path in images:\n",
    "            _, file_name = os.path.split(image_path)\n",
    "            file_name = file_name[:-4]\n",
    "            #image = np.array((Image.open(image_path).resize((crop_size,crop_size), Image.ANTIALIAS))).astype(np.float32)\n",
    "            image = np.array(Image.open(image_path)).astype(np.float32)\n",
    "            #print (image.shape) \n",
    "            for rotations in range(amount_rot): \n",
    "                    rot_image = np.rot90(image,rotations, axes=(-2,-1))             \n",
    "                    dataX.append(rot_image)\n",
    "                    dataY.append(class_ind)\n",
    "                    file_names.append(file_name)\n",
    "                    if (enable_flips):\n",
    "                        dataX.append(np.flipud(rot_image))\n",
    "                        dataY.append(class_ind)\n",
    "                        file_names.append(file_name)\n",
    "                        \n",
    "                        #dataX.append(np.fliplr(rot_image))\n",
    "                        #dataY.append(class_ind)\n",
    "                        #file_names.append(file_name)\n",
    "           \n",
    "        \n",
    "        \n",
    "    cmap=cm.gray\n",
    "    if not os.path.exists(outdir):\n",
    "        os.makedirs(outdir)\n",
    "\n",
    "    img_ind = 0\n",
    "     \n",
    "    cols = 10\n",
    "    rows = -(-len(file_names) // cols) \n",
    "    #rows = 4\n",
    "    #permut = np.array( range(X.shape[0]) )\n",
    "    #np.random.shuffle( permut )\n",
    "    txt_colors = ['red','green']\n",
    "    fig = plt.figure(figsize=(3*cols,3*rows))\n",
    "    permut = np.random.permutation(len(file_names))\n",
    "    for i in range(len(file_names)):\n",
    "    #for i in range(40):\n",
    "\n",
    "        sp = fig.add_subplot(rows,cols,img_ind+1)#, origin=\"lower\"\n",
    "        sp.imshow(dataX[img_ind], cmap = cmap)   \n",
    "        sp.axis('Off')\n",
    "        sp.set_title(f'{classes[dataY[img_ind]]}: {file_names[img_ind]}', color =txt_colors[dataY[img_ind]]) \n",
    "\n",
    "        if (img_ind > len(dataX)-2):\n",
    "            break\n",
    "        else:\n",
    "            img_ind+=1\n",
    "    save_name = f'{outdir}database_{set_name}_big.png'\n",
    "    plt.savefig(save_name, bbox_inches=\"tight\")\n",
    "    plt.close()\n",
    "    print('Input image saved to '+save_name)\n",
    "        \n",
    "            \n",
    " \n",
    "        \n",
    "enable_rotations = False\n",
    "enable_flips = False\n",
    "outdir = save_dir\n",
    "classes          = ['bads', 'goods']\n",
    "make_set_plots(path_to_data, 'train',outdir, classes,crop_size, enable_rotations, enable_flips)\n",
    "make_set_plots(path_to_data, 'valid',outdir, classes,crop_size, enable_rotations, enable_flips)\n",
    "make_set_plots(path_to_data, 'test2',outdir, classes,crop_size, enable_rotations, enable_flips)"
   ]
  },
  {
   "cell_type": "code",
   "execution_count": null,
   "metadata": {},
   "outputs": [],
   "source": [
    "def make_class_sets_plots(path_to_data, set_names, classes,class_ind, outdir,crop_size, enable_rotations, enable_flips):\n",
    "\n",
    "    dataX = []\n",
    "    dataY = []\n",
    "    file_names = []\n",
    "    z = len(classes)\n",
    "    if (enable_rotations):\n",
    "        amount_rot = 4\n",
    "    else:\n",
    "        amount_rot = 1\n",
    "    for set_name in set_names:\n",
    "        cls = classes[class_ind]\n",
    "        print (f'set_name = {set_name}')\n",
    "        print (f'cls = {cls}')\n",
    "        images = sorted(glob.glob(path_to_data+'/'+set_name+'/'+cls + '/' +'*.png'))\n",
    "        for image_path in images:\n",
    "            _, file_name = os.path.split(image_path)\n",
    "            file_name = file_name[:-4]\n",
    "            #image = np.array((Image.open(image_path).resize((crop_size,crop_size), Image.ANTIALIAS))).astype(np.float32)\n",
    "            image = np.array(Image.open(image_path)).astype(np.float32)\n",
    "            for rotations in range(amount_rot): \n",
    "                    rot_image = np.rot90(image,rotations, axes=(-2,-1))             \n",
    "                    dataX.append(rot_image)\n",
    "                    dataY.append(class_ind)\n",
    "                    file_names.append(file_name)\n",
    "                    if (enable_flips):\n",
    "                        dataX.append(np.flipud(rot_image))\n",
    "                        dataY.append(class_ind)\n",
    "                        file_names.append(file_name)\n",
    "\n",
    "        \n",
    "    cmap=cm.gray\n",
    "    if not os.path.exists(outdir):\n",
    "        os.makedirs(outdir)\n",
    "\n",
    "    img_ind = 0\n",
    "     \n",
    "    cols = 10\n",
    "    #rows = -(-len(file_names) // cols) \n",
    "    rows = 4\n",
    "    #permut = np.array( range(X.shape[0]) )\n",
    "    #np.random.shuffle( permut )\n",
    "    txt_colors = ['red','green']\n",
    "    fig = plt.figure(figsize=(3*cols,3*rows))\n",
    "    permut = np.random.permutation(len(file_names))\n",
    "    print (f'len files: {len(file_names)}')\n",
    "    #for i in range(len(file_names)):\n",
    "    for i in range(40):\n",
    "\n",
    "        sp = fig.add_subplot(rows,cols,img_ind+1)#, origin=\"lower\"\n",
    "        sp.imshow(dataX[permut[img_ind]], cmap = cmap)   \n",
    "        sp.axis('Off')\n",
    "        #sp.set_title(f'{classes[dataY[img_ind]]}: {file_names[img_ind]}', color =txt_colors[dataY[img_ind]]) \n",
    "\n",
    "        if (img_ind > len(dataX)-2):\n",
    "            break\n",
    "        else:\n",
    "            img_ind+=1\n",
    "    save_name = f'{outdir}database_{cls}_big_permut.png'\n",
    "    plt.savefig(save_name, bbox_inches=\"tight\")\n",
    "    plt.close()\n",
    "    print('Input image saved to '+save_name)\n",
    "    \n",
    "    \n",
    "        \n",
    "enable_rotations = False\n",
    "enable_flips = False\n",
    "outdir = save_dir\n",
    "classes          = ['bads', 'goods']\n",
    "sets = ['train','valid','test2']\n",
    "make_class_sets_plots(path_to_data, sets, classes,0, outdir,crop_size, enable_rotations, enable_flips)\n",
    "make_class_sets_plots(path_to_data, sets, classes,1, outdir, crop_size, enable_rotations, enable_flips)\n"
   ]
  },
  {
   "cell_type": "code",
   "execution_count": null,
   "metadata": {
    "colab": {
     "base_uri": "https://localhost:8080/",
     "height": 102
    },
    "colab_type": "code",
    "executionInfo": {
     "elapsed": 305261,
     "status": "ok",
     "timestamp": 1590744753825,
     "user": {
      "displayName": "Zigzag13 Mak13",
      "photoUrl": "",
      "userId": "17521176493425296049"
     },
     "user_tz": -180
    },
    "id": "YICSHguuS2O0",
    "outputId": "823fad41-b65b-48f1-8356-813be33a7951"
   },
   "outputs": [],
   "source": [
    "from sklearn.preprocessing import MinMaxScaler\n",
    "\n",
    "save_dir = save_dir\n",
    "# Do Principal component analysis\n",
    "pca_data_X = trainX\n",
    "pca_data_X = pca_data_X.reshape((pca_data_X.shape[0],-1)) # reszie each image 1x32x32 --> 1x1024\n",
    "\n",
    "#scaler = MinMaxScaler()\n",
    "#pca_data_X = scaler.fit_transform(pca_data_X)\n",
    "print('Augmented data shape:', pca_data_X.shape)\n",
    "\n",
    "pca = PCA()\n",
    "T = pca.fit_transform(pca_data_X)\n",
    "print(f'explained_variance_ratio: {pca.explained_variance_ratio_[:5]}')\n",
    "print(f'explained_variance_ratio sum: {pca.explained_variance_ratio_[:5].cumsum()}') \n",
    "print(f'X_reduced: {T.shape}')\n",
    "print(f'trainY: {trainY.shape}')\n"
   ]
  },
  {
   "cell_type": "code",
   "execution_count": null,
   "metadata": {
    "colab": {
     "base_uri": "https://localhost:8080/",
     "height": 314
    },
    "colab_type": "code",
    "executionInfo": {
     "elapsed": 3007,
     "status": "ok",
     "timestamp": 1590635068983,
     "user": {
      "displayName": "Zigzag13 Mak13",
      "photoUrl": "",
      "userId": "17521176493425296049"
     },
     "user_tz": -180
    },
    "id": "t6j1mhtSStvY",
    "outputId": "00aabc88-162f-4b31-aaf9-a9a5ff728065"
   },
   "outputs": [],
   "source": [
    "# Plot explained variance as a function of number of components\n",
    "\n",
    "print(pca.explained_variance_ratio_[:10])\n",
    "plt.figure()\n",
    "n_comp = 20\n",
    "plt.plot(range(1,n_comp+1), pca.explained_variance_ratio_[:n_comp], 'x')\n",
    "plt.plot(range(1,n_comp+1),np.cumsum(pca.explained_variance_ratio_[:n_comp]))\n",
    "plt.xlabel('n_components')\n",
    "plt.legend(['% of explained variance', 'cumulative explained variance'])\n",
    "plt.savefig(save_dir + 'CO_tips_explained_variance.png', bbox_inches='tight', dpi=200)"
   ]
  },
  {
   "cell_type": "code",
   "execution_count": null,
   "metadata": {
    "colab": {
     "base_uri": "https://localhost:8080/",
     "height": 290
    },
    "colab_type": "code",
    "executionInfo": {
     "elapsed": 2262,
     "status": "ok",
     "timestamp": 1590635125520,
     "user": {
      "displayName": "Zigzag13 Mak13",
      "photoUrl": "",
      "userId": "17521176493425296049"
     },
     "user_tz": -180
    },
    "id": "tSyrIQ1M1LoW",
    "outputId": "6538e94a-6b42-40ac-a7bd-d73ebb97cd55"
   },
   "outputs": [],
   "source": [
    "import matplotlib.pyplot as plt\n",
    "from mpl_toolkits.mplot3d import Axes3D\n",
    "from matplotlib.colors import ListedColormap\n",
    "\n",
    "classes          = ['bads', 'goods']\n",
    "colours = ListedColormap(['r','g'])\n",
    "\n",
    "# Visualize with two principle components\n",
    "fig = plt.figure(figsize=(9,4))\n",
    "ax = fig.add_subplot(121)\n",
    "scatter = plt.scatter(T[:,0], T[:,1], c=trainY.ravel(), cmap=colours )\n",
    "plt.xlim(T[:,0].min(), T[:,0].max())\n",
    "plt.ylim(T[:,1].min(), T[:,1].max())\n",
    "plt.xlabel('principal component 1')\n",
    "plt.ylabel('principal component 2')\n",
    "plt.legend(handles=scatter.legend_elements()[0], labels=classes)\n",
    "ax.ticklabel_format(axis='both', style='sci', scilimits=(0,0))\n",
    "\n",
    "# Visualize with three principle components\n",
    "ax = fig.add_subplot(122, projection='3d')\n",
    "scatter = ax.scatter(T[:,0], T[:,1], T[:,2], c=trainY.ravel(), cmap=colours)\n",
    "ax.set_xlabel('component 1')\n",
    "ax.set_ylabel('component 2')\n",
    "ax.set_zlabel('component 3')\n",
    "ax.ticklabel_format(axis='both', style='sci', scilimits=(0,0))\n",
    "plt.legend(handles=scatter.legend_elements()[0], labels=classes)\n",
    "plt.show()\n",
    "save_name = f'CO_tips_pca_no_rotations_cropsize{crop_size}.png'\n",
    "fig.savefig(save_dir+save_name, bbox_inches='tight', dpi=200)\n",
    "plt.close()"
   ]
  },
  {
   "cell_type": "markdown",
   "metadata": {
    "colab_type": "text",
    "id": "u1ttW9Xmf1Pb"
   },
   "source": [
    "## t-SNE  [t-distributed stochastic neighbor embedding] \n",
    "Visualizing data using t-SNE \n",
    "L.v.d. Maaten, G. Hinton, Journal of Machine Learning Research, Vol 9(Nov), pp. 2579—2605. 2008.\n",
    "https://distill.pub/2016/misread-tsne/"
   ]
  },
  {
   "cell_type": "code",
   "execution_count": null,
   "metadata": {
    "colab": {
     "base_uri": "https://localhost:8080/",
     "height": 399
    },
    "colab_type": "code",
    "executionInfo": {
     "elapsed": 4459,
     "status": "ok",
     "timestamp": 1590637440748,
     "user": {
      "displayName": "Zigzag13 Mak13",
      "photoUrl": "",
      "userId": "17521176493425296049"
     },
     "user_tz": -180
    },
    "id": "Td6HcCr1eeqG",
    "outputId": "63a6ea20-1887-4acf-aa18-7ebd1ee58c5f"
   },
   "outputs": [],
   "source": [
    "np.random.seed(0)\n",
    "\n",
    "# t-SNE 2 components analysis\n",
    "tsne = TSNE(n_components=2, perplexity=30, learning_rate=200)\n",
    "E2 = tsne.fit_transform(pca_data_X)\n",
    "\n",
    "# t-SNE 3 components\n",
    "tsne = TSNE(n_components=3, perplexity=30, learning_rate=200)\n",
    "E3 = tsne.fit_transform(T[:,:50])\n",
    " \n",
    "# Visualize t-sne embedding: 2 components   \n",
    "fig = plt.figure(figsize=(9,4))\n",
    "ax = fig.add_subplot(121)    \n",
    "colours2 = ListedColormap(['b','m'])\n",
    "plt.scatter(E2[:,0], E2[:,1], c=trainY.ravel(), cmap=colours2)\n",
    "#plt.legend(handles=scatter.legend_elements()[0], labels=classes)\n",
    "\n",
    "plt.xlabel('t-sne component 1')\n",
    "plt.ylabel('t-sne component 2')\n",
    "ax.ticklabel_format(axis='both', style='sci', scilimits=(0,0))\n",
    "\n",
    "# Visualize t-sne embedding: 3 components   \n",
    "ax = fig.add_subplot(122, projection='3d')\n",
    "ax.scatter(E3[:,0], E3[:,1], E3[:,2], c=trainY.ravel(), cmap=colours2)\n",
    "#plt.legend(handles=scatter.legend_elements()[0], labels=classes)\n",
    "\n",
    "ax.set_xlabel('t-sne component 1')\n",
    "ax.set_ylabel('t-sne component 2')\n",
    "ax.set_zlabel('t-sne component 3')\n",
    "ax.ticklabel_format(axis='both', style='sci', scilimits=(0,0))\n",
    "\n",
    "plt.savefig(save_dir+'CO_tips_t-SNE_no_rotations_cropsize{crop_size}.png', bbox_inches='tight', dpi=200)\n",
    "plt.close()\n"
   ]
  },
  {
   "cell_type": "code",
   "execution_count": null,
   "metadata": {
    "colab": {
     "base_uri": "https://localhost:8080/",
     "height": 348
    },
    "colab_type": "code",
    "executionInfo": {
     "elapsed": 8851,
     "status": "ok",
     "timestamp": 1590637675515,
     "user": {
      "displayName": "Zigzag13 Mak13",
      "photoUrl": "",
      "userId": "17521176493425296049"
     },
     "user_tz": -180
    },
    "id": "Y9byFuYiR8Ld",
    "outputId": "2c2d709b-b7af-4564-cbdc-e0f8a5e2fdb3"
   },
   "outputs": [],
   "source": [
    "# Let's vary parameters for t-SNE \n",
    "# here perplexities parameter varied. “perplexity,” says (loosely) \n",
    "# how to balance attention between local and global aspects of your data. \n",
    "# “The performance of SNE is fairly robust to changes in the perplexity, and typical values are between 5 and 50.”\n",
    "perplexities = [2 , 5, 10 , 30, 100, 500]   #range 2 to N\n",
    "\n",
    "E2_perpl = []\n",
    "for perplexity in perplexities:\n",
    "    print ('perplexity ', perplexity)\n",
    "    tsne = TSNE(n_components=2, perplexity=perplexity, learning_rate=200)\n",
    "    E2_perpl.append(tsne.fit_transform(pca_data_X))   \n",
    "\n",
    "\n",
    "plt.figure(figsize=(5*len(perplexities),4))\n",
    "for i, d in enumerate(E2_perpl):\n",
    "    plt.subplot(101+len(perplexities)*10+i)\n",
    "    colours2 = ListedColormap(['b','m'])\n",
    "    plt.scatter(d[:,0], d[:,1], c=trainY.ravel(), cmap=colours2)\n",
    "    plt.xlabel('t-sne component 1')\n",
    "    plt.ylabel('t-sne component 2')\n",
    "    ax.ticklabel_format(axis='both', style='sci', scilimits=(0,0))\n",
    "    #plt.legend(handles=scatter.legend_elements()[0], labels=classes)\n",
    "    plt.title('perplexity '+str(perplexities[i]))\n",
    "plt.show()\n",
    "\n",
    "\n",
    "plt.savefig(save_dir+'CO_tips_t-SNE_2D_perplexity_var.png', dpi=200, bbox_inches='tight')\n",
    "plt.close()"
   ]
  },
  {
   "cell_type": "code",
   "execution_count": null,
   "metadata": {
    "colab": {
     "base_uri": "https://localhost:8080/",
     "height": 372
    },
    "colab_type": "code",
    "executionInfo": {
     "elapsed": 5700,
     "status": "ok",
     "timestamp": 1590638457379,
     "user": {
      "displayName": "Zigzag13 Mak13",
      "photoUrl": "",
      "userId": "17521176493425296049"
     },
     "user_tz": -180
    },
    "id": "PT6bnyfrZOFJ",
    "outputId": "c491b26b-b9d7-4da7-b965-8bfa1a2378ae"
   },
   "outputs": [],
   "source": [
    "# here n_iterations is varied\n",
    "\n",
    "iterations   = [250, 300, 350, 500, 1000] \n",
    "\n",
    "E2 = []\n",
    "for iteration in iterations:\n",
    "    print ('n_iter ', iteration)\n",
    "    tsne = TSNE(n_components=2, perplexity=30, learning_rate=200, n_iter = iteration)\n",
    "    E2.append(tsne.fit_transform(pca_data_X))   \n",
    "\n",
    "plt.figure(figsize=(5*len(iterations),4))\n",
    "for i, d in enumerate(E2):\n",
    "    plt.subplot(101+len(iterations)*10+i)\n",
    "    colours2 = ListedColormap(['b','m'])\n",
    "    plt.scatter(d[:,0], d[:,1], c=trainY.ravel(), cmap=colours2)\n",
    "    plt.xlabel('t-sne component 1')\n",
    "    plt.ylabel('t-sne component 2')\n",
    "    ax.ticklabel_format(axis='both', style='sci', scilimits=(0,0))\n",
    "    #plt.legend(handles=scatter.legend_elements()[0], labels=classes)\n",
    "    plt.title('n_iter '+str(iterations[i]))\n",
    "plt.show()\n",
    "\n",
    "\n",
    "plt.savefig(save_dir+'CO_tips_t-SNE_2D_n_iter_var.png', dpi=200, bbox_inches='tight')\n",
    "plt.close()"
   ]
  },
  {
   "cell_type": "markdown",
   "metadata": {
    "colab_type": "text",
    "id": "P-fFkbtRquue"
   },
   "source": [
    "## CNN analysis"
   ]
  },
  {
   "cell_type": "code",
   "execution_count": null,
   "metadata": {
    "colab": {
     "base_uri": "https://localhost:8080/",
     "height": 34
    },
    "colab_type": "code",
    "executionInfo": {
     "elapsed": 1743,
     "status": "ok",
     "timestamp": 1590649464543,
     "user": {
      "displayName": "Zigzag13 Mak13",
      "photoUrl": "",
      "userId": "17521176493425296049"
     },
     "user_tz": -180
    },
    "id": "B_7oaT08xyrA",
    "outputId": "7085b8c6-d361-415b-d496-ac131817c908"
   },
   "outputs": [],
   "source": [
    "\n",
    "import sys\n",
    "from sklearn.metrics import confusion_matrix, classification_report, roc_curve, auc\n",
    "from utils import *\n",
    "import os\n",
    "\n",
    "from tensorflow import set_random_seed\n",
    "set_random_seed(2)\n",
    "np.random.seed(1)\n",
    "from keras import backend\n",
    "\n",
    "from keras.callbacks import ModelCheckpoint, CSVLogger\n",
    "from keras.utils     import plot_model\n",
    "\n",
    "assert len(backend.tensorflow_backend._get_available_gpus()) > 0\n"
   ]
  },
  {
   "cell_type": "code",
   "execution_count": 2,
   "metadata": {
    "colab": {
     "base_uri": "https://localhost:8080/",
     "height": 204
    },
    "colab_type": "code",
    "executionInfo": {
     "elapsed": 1868,
     "status": "ok",
     "timestamp": 1590649518599,
     "user": {
      "displayName": "Zigzag13 Mak13",
      "photoUrl": "",
      "userId": "17521176493425296049"
     },
     "user_tz": -180
    },
    "id": "kxJ5gD0KqxJ_",
    "outputId": "93fb0ef8-c993-40a7-e67e-ce922628e1ad"
   },
   "outputs": [
    {
     "name": "stdout",
     "output_type": "stream",
     "text": [
      "gen training data\n",
      "trainX: (1632, 16, 16)\n",
      "trainY: (1632,)\n",
      "gen validation data\n",
      "valX: (552, 16, 16)\n",
      "valY: (552,)\n",
      "gen test data\n",
      "testX: (73, 16, 16)\n",
      "testY: (73,)\n",
      "dataset cnn saved succesfully to ./CNN5_tf/dataset_cnn.npz\n",
      "Total amount of samples:  2257\n"
     ]
    }
   ],
   "source": [
    "# CNN training parameters\n",
    "path_to_data = './databaseNew6'\n",
    "descriptors      = ['class']\n",
    "classes          = ['bads', 'goods']\n",
    "batch_size       = 32\n",
    "pred_batches     = 10 \n",
    "verbose          = 1\n",
    "crop_size        = 16\n",
    "enable_rotations = True \n",
    "enable_flips     = True\n",
    "save_dir         = './CNN_tf/'\n",
    "\n",
    "model_dir         = save_dir\n",
    "pred_dir          = os.path.join(model_dir, 'predictions/')     # Where to save predictions\n",
    "checkpoint_dir    = os.path.join(model_dir, 'checkpoints/')     # Where to save model checkpoints\n",
    "log_path          = os.path.join(model_dir, 'training.log')     # Where to save loss history during training\n",
    "batch_dir         = model_dir+'batch_imgs/'\n",
    "if not os.path.exists(save_dir):\n",
    "    os.makedirs(save_dir)\n",
    "\n",
    "\n",
    "if os.path.exists(save_dir+'dataset_cnn.npz'):\n",
    "    print ('dataset cnn founded')\n",
    "    try:    \n",
    "        data= np.load(save_dir+'dataset_cnn.npz')\n",
    "        trainX=data['trainX']\n",
    "        trainY=data['trainY']\n",
    "        valX=data['valX']\n",
    "        valY=data['valY']\n",
    "        testX=data['testX']\n",
    "        testY=data['testY']\n",
    "        print (f'trainY: {len(trainY)}')    \n",
    "        print (f'valY: {len(valY)}')    \n",
    "        print (f'testY: {len(testY)}')    \n",
    "        print ('dataset loaded succesfully')\n",
    "    except KeyError as e:\n",
    "        print('Could not find filename %s' % e)\n",
    "else:\n",
    "\n",
    " \n",
    "    if not os.path.exists(save_dir):\n",
    "        os.makedirs(save_dir)\n",
    "\n",
    "    # train\n",
    "    print('gen training data') \n",
    "    trainX, trainY = generate_data_from_images(path_to_data, 'train', classes,crop_size, enable_rotations, enable_flips)\n",
    "    print (f'trainX: {trainX.shape}')\n",
    "    print (f'trainY: {trainY.shape}')\n",
    "\n",
    "    # validation\n",
    "    print('gen validation data')  \n",
    "    valX, valY     = generate_data_from_images(path_to_data, 'valid', classes,crop_size, enable_rotations, enable_flips)\n",
    "    print (f'valX: {valX.shape}')\n",
    "    print (f'valY: {valY.shape}')\n",
    "\n",
    "    # test  generate test data without augumentations\n",
    "    print('gen test data')  \n",
    "    testX, testY   = generate_data_from_images(path_to_data, 'test2', classes,crop_size, enable_rotations=False, enable_flips=False) \n",
    "    print (f'testX: {testX.shape}')\n",
    "    print (f'testY: {testY.shape}')\n",
    "    file_dataset = 'dataset_cnn.npz'\n",
    "    np.savez(save_dir+ file_dataset , trainX=trainX,trainY=trainY, valX = valX, valY = valY, testX =testX, testY =testY  )\n",
    "    print (f'dataset cnn saved succesfully to {save_dir+ file_dataset}')\n",
    "train_len = trainY.shape[0]//batch_size\n",
    "val_len = valY.shape[0]//batch_size\n",
    "test_len = testY.shape[0]//batch_size\n",
    "print ('Total amount of samples: ', trainY.shape[0] +valY.shape[0] + testY.shape[0])"
   ]
  },
  {
   "cell_type": "code",
   "execution_count": 3,
   "metadata": {},
   "outputs": [],
   "source": [
    "from keras.models import Sequential\n",
    "from keras.layers import Conv2D, AveragePooling2D, MaxPooling2D\n",
    "from keras.layers import Dropout,SpatialDropout2D, Flatten, Dense,LeakyReLU,Activation, ReLU\n",
    "from keras import backend as K\n",
    "\n",
    "\n",
    "def custom_loss():\n",
    "    # Create a loss function that adds the MSE loss to the mean of all squared activations of a specific layer\n",
    "    def loss(y_true, y_pred):\n",
    "        #return tf.nn.sigmoid_cross_entropy_with_logits(labels=y_true, logits=y_pred) \n",
    "        return K.mean(K.binary_crossentropy(y_true, y_pred, from_logits=True),axis = -1)\n",
    "    \n",
    "    # Return a function\n",
    "    return loss\n",
    "\n",
    "def conv_net_tf(lrelu_factor = 0.1):\n",
    "    # create model\n",
    "    def activation():\n",
    "        return LeakyReLU(alpha=lrelu_factor)\n",
    "\n",
    "    model = Sequential()\n",
    "    model.add(Conv2D(4, (3, 3), input_shape=input_shape, kernel_initializer = 'he_uniform'))\n",
    "    model.add(activation())\n",
    "    model.add(SpatialDropout2D(0.05))\n",
    "    model.add(Conv2D(4, (3, 3), kernel_initializer = 'he_uniform'))\n",
    "    model.add(activation())\n",
    "    model.add(SpatialDropout2D(0.05))\n",
    "    model.add(AveragePooling2D(pool_size=(2, 2)))\n",
    "\n",
    "    model.add(Conv2D(8, (3, 3), kernel_initializer = 'he_uniform'))\n",
    "    model.add(activation())\n",
    "    model.add(SpatialDropout2D(0.05))\n",
    "    model.add(Conv2D(8, (3, 3), kernel_initializer = 'he_uniform'))\n",
    "    model.add(activation())\n",
    "    model.add(SpatialDropout2D(0.05))\n",
    "\n",
    "\n",
    "\n",
    "    model.add(Flatten())  # this converts our 3D feature maps to 1D feature vectors\n",
    "    model.add(Dense(32))\n",
    "    model.add(activation())\n",
    "    model.add(Dropout(0.1))\n",
    "    model.add(Dense(1))\n",
    "    model.add(Activation('sigmoid'))\n",
    "\n",
    "    # Compile model\n",
    "    model.compile(loss = 'binary_crossentropy', optimizer='adam', metrics=['accuracy'])\n",
    "    return model\n"
   ]
  },
  {
   "cell_type": "code",
   "execution_count": 5,
   "metadata": {},
   "outputs": [
    {
     "name": "stdout",
     "output_type": "stream",
     "text": [
      "input_shape = (1, 16, 16)\n",
      "_________________________________________________________________\n",
      "Layer (type)                 Output Shape              Param #   \n",
      "=================================================================\n",
      "conv2d_1 (Conv2D)            (None, 4, 14, 14)         40        \n",
      "_________________________________________________________________\n",
      "leaky_re_lu_1 (LeakyReLU)    (None, 4, 14, 14)         0         \n",
      "_________________________________________________________________\n",
      "spatial_dropout2d_1 (Spatial (None, 4, 14, 14)         0         \n",
      "_________________________________________________________________\n",
      "conv2d_2 (Conv2D)            (None, 4, 12, 12)         148       \n",
      "_________________________________________________________________\n",
      "leaky_re_lu_2 (LeakyReLU)    (None, 4, 12, 12)         0         \n",
      "_________________________________________________________________\n",
      "spatial_dropout2d_2 (Spatial (None, 4, 12, 12)         0         \n",
      "_________________________________________________________________\n",
      "average_pooling2d_1 (Average (None, 4, 6, 6)           0         \n",
      "_________________________________________________________________\n",
      "conv2d_3 (Conv2D)            (None, 8, 4, 4)           296       \n",
      "_________________________________________________________________\n",
      "leaky_re_lu_3 (LeakyReLU)    (None, 8, 4, 4)           0         \n",
      "_________________________________________________________________\n",
      "spatial_dropout2d_3 (Spatial (None, 8, 4, 4)           0         \n",
      "_________________________________________________________________\n",
      "conv2d_4 (Conv2D)            (None, 8, 2, 2)           584       \n",
      "_________________________________________________________________\n",
      "leaky_re_lu_4 (LeakyReLU)    (None, 8, 2, 2)           0         \n",
      "_________________________________________________________________\n",
      "spatial_dropout2d_4 (Spatial (None, 8, 2, 2)           0         \n",
      "_________________________________________________________________\n",
      "flatten_1 (Flatten)          (None, 32)                0         \n",
      "_________________________________________________________________\n",
      "dense_1 (Dense)              (None, 32)                1056      \n",
      "_________________________________________________________________\n",
      "leaky_re_lu_5 (LeakyReLU)    (None, 32)                0         \n",
      "_________________________________________________________________\n",
      "dropout_1 (Dropout)          (None, 32)                0         \n",
      "_________________________________________________________________\n",
      "dense_2 (Dense)              (None, 1)                 33        \n",
      "_________________________________________________________________\n",
      "activation_1 (Activation)    (None, 1)                 0         \n",
      "=================================================================\n",
      "Total params: 2,157\n",
      "Trainable params: 2,157\n",
      "Non-trainable params: 0\n",
      "_________________________________________________________________\n"
     ]
    }
   ],
   "source": [
    "\n",
    "K.set_image_dim_ordering('th')\n",
    "if K.image_data_format() == 'channels_first':\n",
    "    input_shape = (1,crop_size, crop_size)\n",
    "else:\n",
    "    input_shape = (crop_size, crop_size,1)\n",
    "print(f'input_shape = {input_shape}')\n",
    "model = conv_net_tf()\n",
    "model.summary()\n",
    "plot_model(model, to_file=os.path.join(model_dir, 'model.png'))"
   ]
  },
  {
   "cell_type": "markdown",
   "metadata": {
    "colab_type": "text",
    "id": "86bPrOEaVW5j"
   },
   "source": [
    "### Training and validation processes"
   ]
  },
  {
   "cell_type": "code",
   "execution_count": 8,
   "metadata": {
    "colab": {
     "base_uri": "https://localhost:8080/",
     "height": 1000
    },
    "colab_type": "code",
    "executionInfo": {
     "elapsed": 116448,
     "status": "ok",
     "timestamp": 1590649652524,
     "user": {
      "displayName": "Zigzag13 Mak13",
      "photoUrl": "",
      "userId": "17521176493425296049"
     },
     "user_tz": -180
    },
    "id": "S54mh59Xtpil",
    "outputId": "56c39431-252b-4d06-bec3-86d3eb1f53dc"
   },
   "outputs": [
    {
     "name": "stdout",
     "output_type": "stream",
     "text": [
      "Optimizer weights loaded from ./CNN5_tf/optimizer_state.pkl\n",
      "\n",
      " === Starting training loop \n",
      "\n",
      "Using existing log loss at ./CNN5_tf/loss_log.csv\n",
      "Using existing log accu at ./CNN5_tf/accu_log.csv\n",
      "Model weights loaded from ./CNN5_tf/checkpoints/weights_29.h5\n",
      "\n",
      "Model saved to ./CNN5_tf/model.h5\n"
     ]
    }
   ],
   "source": [
    "epochs           = 29\n",
    "\n",
    "# Load optimizer state if available\n",
    "optimizer_path = os.path.join(model_dir, 'optimizer_state.pkl')\n",
    "load_optimizer_state(model, optimizer_path)\n",
    "\n",
    "# Create output folder\n",
    "if not os.path.exists(model_dir):\n",
    "    os.makedirs(model_dir)\n",
    "\n",
    "# Create a folder for model checkpoints\n",
    "if not os.path.exists(checkpoint_dir):\n",
    "    os.makedirs(checkpoint_dir)\n",
    "\n",
    "# Create a folder for model predictions\n",
    "if not os.path.exists(pred_dir):\n",
    "    os.makedirs(pred_dir)\n",
    "\n",
    "# Setup callbacks\n",
    "checkpointer = ModelCheckpoint(checkpoint_dir+'weights_{epoch:d}.h5', save_weights_only=True)\n",
    "logger = CSVLogger(log_path, append=True)\n",
    "\n",
    "\n",
    "\n",
    "print('\\n === Starting training loop \\n')\n",
    "start_time = time.time()\n",
    "# Initialize loss log\n",
    "loss_log = LossAccuLog(model_dir, descriptors=descriptors)\n",
    "\n",
    "# Resume previous epoch if exists\n",
    "init_epoch = 0\n",
    "model_file = None\n",
    "for i in range(1, epochs+1):\n",
    "    cp_file = os.path.join(checkpoint_dir, 'weights_%d.h5' % i)\n",
    "    if os.path.exists(cp_file):\n",
    "        init_epoch += 1\n",
    "        model_file = cp_file\n",
    "    else:\n",
    "        break\n",
    "if init_epoch > 0:\n",
    "    model.load_weights(model_file)\n",
    "    print('Model weights loaded from '+model_file)\n",
    "    \n",
    "\n",
    "\n",
    "for epoch in range(init_epoch, epochs):\n",
    "    train_loss = np.zeros(1)\n",
    "    val_loss = np.zeros(1)\n",
    "    train_accu = np.zeros(1)\n",
    "    val_accu = np.zeros(1)\n",
    "    epoch_start = time.time()\n",
    "\n",
    "    # Train\n",
    "    preds_train = np.zeros(train_len*batch_size)\n",
    "    for batch in range(train_len):\n",
    "        batch_indexes = np.arange(batch*batch_size,(batch+1)*batch_size)\n",
    "\n",
    "        X = np.expand_dims(trainX[batch_indexes], axis = 1)\n",
    "\n",
    "        Y = trainY[batch_indexes] \n",
    "        add_norm_CO(X)\n",
    "        # Train model\n",
    "        loss = model.train_on_batch(X, Y)\n",
    "\n",
    "        loss = np.array(loss)\n",
    "        loss = np.mean(loss)\n",
    "        outputs = model.predict_on_batch(X)\n",
    "        predicted = np.squeeze(np.array(outputs))\n",
    "        #if (batch < 2) and ((epoch+1) % 2 ==0):\n",
    "        #    make_batch_plots(X,Y,predicted,epoch+1, batch+1,'train',classes, outdir=model_dir)\n",
    "        #print (f'outputs = {outputs[:5]}')\n",
    "        predicted_tags = np.squeeze(np.round(outputs))\n",
    "        #print (f'predicted_tags = {predicted_tags[:5]}, predicted_tags.shape = {predicted_tags.shape}')\n",
    "        #print (f'Y = {Y[:5]}, Y.shape = {Y.shape}')\n",
    "        preds_train[batch_indexes] = np.round(predicted)\n",
    "        total = Y.shape[0]\n",
    "        correct = (predicted_tags == Y).sum()\n",
    "        #print (f'correct = {correct}, total = {total}')\n",
    "        accuracy = 100. * correct / total   \n",
    "\n",
    "        # Update mean loss\n",
    "        train_loss = train_loss + (loss - train_loss) / (batch+1)\n",
    "\n",
    "        # Update mean accuracy\n",
    "        # print('%f (Fit) Updating accuracy % time.time())\n",
    "        train_accu = train_accu + (accuracy - train_accu) / (batch+1)        \n",
    "\n",
    "\n",
    "        # Print information\n",
    "#                print('%f (Fit) Printing information' % time.time())\n",
    "        if (batch+1 == train_len):\n",
    "\n",
    "            eta = (time.time() - epoch_start) / (batch+1) * ((train_len+val_len) - (batch + 1))\n",
    "            msg = 'Epoch '+str(epoch+1)+', Batch '+str(batch+1)\n",
    "            for i in range(len(train_loss)):\n",
    "                msg +=  ' - Loss '+': %.4g'% train_loss[i]\n",
    "                msg +=  ' - Accuracy '+': %.4g'% train_accu[i]\n",
    "            msg += ' - ETA: %ds' % eta\n",
    "            print(msg)\n",
    "            print (f'loss item = {loss.item()}')\n",
    "            #print (f'outputs = {outputs}')\n",
    "    #print('Reset scheduler')\n",
    "    #scheduler = optim.lr_scheduler.CosineAnnealingLR(optimizer, steps)                \n",
    "        # Task done on queue item\n",
    "#                print('%f (Fit) Task done' % time.time())\n",
    "\n",
    "\n",
    "\n",
    "    # Validate\n",
    "    preds_val = np.zeros(val_len*batch_size)\n",
    "    for batch in range(val_len):\n",
    "    #for batch in range(20): \n",
    "        batch_indexes = np.arange(batch*batch_size,(batch+1)*batch_size)\n",
    "\n",
    "        # Get new batch from queue when available\n",
    "        X = np.expand_dims(valX[batch_indexes], axis = 1)\n",
    "\n",
    "        Y = valY[batch_indexes]\n",
    "        #print (f'X.shape = {X.shape}')\n",
    "        #print (f'Y.shape = {Y.shape}')\n",
    "           \n",
    "        add_norm_CO(X)\n",
    "        \n",
    "        loss = model.test_on_batch(X, Y)\n",
    "        loss = np.array(loss)\n",
    "        loss = np.mean(loss)\n",
    "        outputs = model.predict_on_batch(X)\n",
    "        predicted = np.squeeze(np.array(outputs))\n",
    "        #if (batch < 2) and ((epoch +1)% 2 ==0):\n",
    "        #    make_batch_plots(X,Y,predicted,epoch+1, batch+1,'valid', classes, outdir=model_dir)\n",
    "\n",
    "        predicted_tags = np.squeeze(np.round(outputs))\n",
    "        preds_val[batch_indexes] = np.round(predicted)\n",
    "        #print (f'predicted = {predicted}')                \n",
    "        total = Y.shape[0]\n",
    "        correct = (predicted_tags == Y).sum().item()    \n",
    "        accuracy = 100. * correct / total  \n",
    "        \n",
    "        # Update mean loss\n",
    "        val_loss += (loss.item() - val_loss) / (batch+1)\n",
    "        val_accu += (accuracy - val_accu) / (batch+1)\n",
    "        # Print information\n",
    "        if verbose > 0:\n",
    "            eta = (time.time() - epoch_start) / (train_len+batch+1) * (val_len - (batch + 1))\n",
    "            #print('ETA: %ds' % eta)\n",
    "\n",
    "\n",
    "    if verbose > 0:\n",
    "        msg = 'Validation'\n",
    "        for i in range(len(val_loss)):\n",
    "            msg +=  ' - Loss '+': %.4g'%val_loss[i]\n",
    "            msg +=  ' - Accuracy '+': %.4g'%val_accu[i]\n",
    "        print(msg)\n",
    "\n",
    "    if verbose > 0:\n",
    "        time_diff = time.time() - epoch_start\n",
    "        print('Epoch time: %ds' % time_diff + ' - Step time: %.4gs' % (time_diff/(train_len+val_len)))\n",
    "\n",
    "    # Write loss history into log\n",
    "    loss_log.add_loss(np.append(train_loss,val_loss))\n",
    "    loss_log.add_accu(np.append(train_accu,val_accu))\n",
    "\n",
    "    # Save model checkpoint\n",
    "    model.save_weights(os.path.join(checkpoint_dir, f'weights_{epoch}.h5'))\n",
    "    # Save optimizer weights\n",
    "    save_optimizer_state(model, optimizer_path)\n",
    "    # Plot loss history\n",
    "    loss_log.plot_history_loss()\n",
    "    loss_log.plot_history_accu()\n",
    "\n",
    "    # Plot confusion matrices\n",
    "    conf_mat_train = confusion_matrix(trainY[:train_len*batch_size], preds_train)\n",
    "    conf_mat_val = confusion_matrix(valY[:val_len*batch_size], preds_val)\n",
    "    tick_labels = classes\n",
    "\n",
    "    # Training set\n",
    "    fig = plt.figure(figsize=(9.5,3.5))\n",
    "    ax = fig.add_subplot(121)\n",
    "    plot_confusion_matrix(ax, conf_mat_train, tick_labels)\n",
    "    ax.set_title('Training set')\n",
    "\n",
    "    # Validation set\n",
    "    ax = fig.add_subplot(122)\n",
    "    plot_confusion_matrix(ax, conf_mat_val, tick_labels)\n",
    "    ax.set_title('Validation set')\n",
    "    plt.savefig(model_dir+'predictions/'+'epoch'+str(epoch+1)+'_conf_mat_train_val.png', bbox_inches='tight', dpi=200)\n",
    "    print ('confustion matrix for validation plotted')\n",
    "    plt.close()\n",
    "\n",
    "    # shuffle training and validatation data\n",
    "    permut = np.random.permutation(trainX.shape[0])\n",
    "    trainX, trainY = trainX[permut], trainY[permut]\n",
    "\n",
    "\n",
    "# Save final model\n",
    "savepath = os.path.join(model_dir, 'model.h5')\n",
    "model.save(savepath )\n",
    "print(f'\\nModel saved to {savepath}')\n",
    "    "
   ]
  },
  {
   "cell_type": "markdown",
   "metadata": {
    "colab_type": "text",
    "id": "fHpp1RX8VdNx"
   },
   "source": [
    "### Evaluation on a test set"
   ]
  },
  {
   "cell_type": "code",
   "execution_count": 40,
   "metadata": {},
   "outputs": [],
   "source": [
    "#!rm -rf CNN5_tf"
   ]
  },
  {
   "cell_type": "code",
   "execution_count": null,
   "metadata": {},
   "outputs": [],
   "source": []
  },
  {
   "cell_type": "code",
   "execution_count": 9,
   "metadata": {},
   "outputs": [
    {
     "name": "stdout",
     "output_type": "stream",
     "text": [
      "model_path = :./CNN5_tf/model.h5\n",
      "\n",
      "Model loaded from ./CNN5_tf/model.h5\n",
      "_________________________________________________________________\n",
      "Layer (type)                 Output Shape              Param #   \n",
      "=================================================================\n",
      "conv2d_1 (Conv2D)            (None, 4, 14, 14)         40        \n",
      "_________________________________________________________________\n",
      "leaky_re_lu_1 (LeakyReLU)    (None, 4, 14, 14)         0         \n",
      "_________________________________________________________________\n",
      "spatial_dropout2d_1 (Spatial (None, 4, 14, 14)         0         \n",
      "_________________________________________________________________\n",
      "conv2d_2 (Conv2D)            (None, 4, 12, 12)         148       \n",
      "_________________________________________________________________\n",
      "leaky_re_lu_2 (LeakyReLU)    (None, 4, 12, 12)         0         \n",
      "_________________________________________________________________\n",
      "spatial_dropout2d_2 (Spatial (None, 4, 12, 12)         0         \n",
      "_________________________________________________________________\n",
      "average_pooling2d_1 (Average (None, 4, 6, 6)           0         \n",
      "_________________________________________________________________\n",
      "conv2d_3 (Conv2D)            (None, 8, 4, 4)           296       \n",
      "_________________________________________________________________\n",
      "leaky_re_lu_3 (LeakyReLU)    (None, 8, 4, 4)           0         \n",
      "_________________________________________________________________\n",
      "spatial_dropout2d_3 (Spatial (None, 8, 4, 4)           0         \n",
      "_________________________________________________________________\n",
      "conv2d_4 (Conv2D)            (None, 8, 2, 2)           584       \n",
      "_________________________________________________________________\n",
      "leaky_re_lu_4 (LeakyReLU)    (None, 8, 2, 2)           0         \n",
      "_________________________________________________________________\n",
      "spatial_dropout2d_4 (Spatial (None, 8, 2, 2)           0         \n",
      "_________________________________________________________________\n",
      "flatten_1 (Flatten)          (None, 32)                0         \n",
      "_________________________________________________________________\n",
      "dense_1 (Dense)              (None, 32)                1056      \n",
      "_________________________________________________________________\n",
      "leaky_re_lu_5 (LeakyReLU)    (None, 32)                0         \n",
      "_________________________________________________________________\n",
      "dropout_1 (Dropout)          (None, 32)                0         \n",
      "_________________________________________________________________\n",
      "dense_2 (Dense)              (None, 1)                 33        \n",
      "_________________________________________________________________\n",
      "activation_1 (Activation)    (None, 1)                 0         \n",
      "=================================================================\n",
      "Total params: 2,157\n",
      "Trainable params: 2,157\n",
      "Non-trainable params: 0\n",
      "_________________________________________________________________\n",
      "test batch 0\n",
      "ETA: 0s\n",
      "test batch 1\n",
      "Statistical information saved to ./CNN5_tf/metrics.csv\n",
      "precision-recall curve (bads) plot saved to ./CNN5_tf/prec-rec_bads.png\n",
      "precision-recall curve (goods) plot saved to ./CNN5_tf/prec-rec_goods.png\n",
      "ETA: 0s\n",
      "Accuracy on test set: 90.625\n",
      "Test set - Loss class: 0.6167\n",
      "conf_mat_test = [[30  6]\n",
      " [ 0 28]]\n",
      "              precision    recall  f1-score   support\n",
      "\n",
      "           0       1.00      0.83      0.91        36\n",
      "           1       0.82      1.00      0.90        28\n",
      "\n",
      "    accuracy                           0.91        64\n",
      "   macro avg       0.91      0.92      0.91        64\n",
      "weighted avg       0.92      0.91      0.91        64\n",
      "\n",
      "\n",
      " ======= Predict \n",
      "test_len =  2\n",
      "Input image saved to ./CNN5_tf/predictions/epoch29_batch1_test.png\n",
      "Input image saved to ./CNN5_tf/predictions/epoch29_batch2_test.png\n",
      "\n",
      "Predictions finished in 3.7034528255462646s\n"
     ]
    }
   ],
   "source": [
    "from keras.models import load_model\n",
    "\n",
    "model_path = save_dir + 'model.h5'\n",
    "print(f'model_path = :{model_path}')\n",
    "# Load model\n",
    "model = load_model(model_path)\n",
    "print(f'\\nModel loaded from {model_path}')\n",
    "# summarize model.\n",
    "model.summary()\n",
    "\n",
    "start_time = time.time()\n",
    "\n",
    "eval_loss = np.zeros(len(descriptors))\n",
    "eval_start = time.time()\n",
    "total = 0\n",
    "correct = 0    \n",
    "\n",
    "n_classes = len(classes)\n",
    "accu_metrics = accuMetrics(n_classes=n_classes)\n",
    "\n",
    "#for batch in range(test_len):\n",
    "preds_test = np.zeros(test_len*batch_size)\n",
    "for batch in range(test_len):       \n",
    "    print (f'test batch {batch}')\n",
    "    batch_indexes = np.arange(batch*batch_size,(batch+1)*batch_size)\n",
    "    \n",
    "    # Get new batch from queue when available\n",
    "    X = np.expand_dims(testX[batch_indexes], axis = 1)\n",
    "\n",
    "    Y = testY[batch_indexes]\n",
    "    \n",
    "    #X = X [:,2,:,:]\n",
    "    #X = np.expand_dims(X, axis=1)             \n",
    "    #for i in range(X.shape[0]):\n",
    "    #    X[i,2,:,:] = np.clip(X[i,2,:,:], None, adhesive_treshold*np.max(X[i,2,:,:]))\n",
    "    add_norm_CO(X)\n",
    "    #X = X * weight \n",
    "\n",
    "\n",
    "    # Test on batch\n",
    "    loss = model.test_on_batch(X, Y)\n",
    "    loss = np.array(loss)\n",
    "    loss = np.mean(loss)\n",
    "    outputs = model.predict_on_batch(X)\n",
    "    predicted = np.squeeze(np.array(outputs))\n",
    "\n",
    "\n",
    "    eval_loss += (loss.mean() - eval_loss) / (batch+1) \n",
    "    #print(f'predicted = {predicted}')\n",
    "    #print(f'true = {Y.cpu().numpy()}')\n",
    "    accu_metrics.add_preds(predicted , Y, loss)\n",
    "    if batch == test_len - 1:\n",
    "        accu_metrics.plot(outdir=save_dir)\n",
    "    predicted_tags = np.squeeze(np.round(outputs))\n",
    "    preds_test[batch_indexes] = np.round(predicted)\n",
    "    total   += Y.shape[0]\n",
    "    correct += (predicted_tags == Y).sum()\n",
    "    \n",
    "    \n",
    "    \n",
    "\n",
    "\n",
    "    if verbose > 0:\n",
    "        eta = (time.time() - eval_start) / (batch+1) * (test_len - (batch + 1))\n",
    "        print('ETA: %ds' % eta)\n",
    "print(f'Accuracy on test set: {100 * correct / total}')\n",
    "msg = 'Test set'\n",
    "for i in range(len(eval_loss)):\n",
    "    msg += ' - Loss '+descriptors[i]+': %.4g'%eval_loss[i]\n",
    "print(msg)\n",
    "\n",
    "with open(model_dir+'test_loss.txt','w') as f:\n",
    "    for descriptor in descriptors:\n",
    "        f.write(descriptor+';')\n",
    "    for loss in eval_loss:\n",
    "        f.write(str(loss)+';')\n",
    "\n",
    "# Plot confusion matrices\n",
    "conf_mat_test = confusion_matrix(testY[:test_len*batch_size], preds_test)\n",
    "print (f'conf_mat_test = {conf_mat_test}')         \n",
    "tick_labels = classes\n",
    "\n",
    "fig = plt.figure(figsize=(4.7,3.5))\n",
    "ax = fig.add_subplot(111)\n",
    "plot_confusion_matrix(ax, conf_mat_test, tick_labels)\n",
    "ax.set_title('Test set')\n",
    "plt.savefig(model_dir+'predictions/'+'epoch'+str(epochs)+'_conf_mat_test_set.png', bbox_inches='tight', dpi=200)\n",
    "plt.close() \n",
    "\n",
    "\n",
    "print(classification_report(testY[:test_len*batch_size], preds_test))\n",
    "\n",
    " \n",
    "print('\\n ======= Predict ')\n",
    "if len(descriptors) > 1:\n",
    "    descriptors = descriptors[1:]\n",
    "\n",
    "counter = 0\n",
    "print ('test_len = ', test_len)\n",
    "\n",
    "for i in range(min(pred_batches, test_len)):\n",
    "    batch_indexes = np.arange(i*batch_size,(i+1)*batch_size)\n",
    "    X = np.expand_dims(testX[batch_indexes], axis = 1)\n",
    "    true = testY[batch_indexes]\n",
    "\n",
    "    add_norm_CO(X)\n",
    "    #X = X * weight \n",
    "    # Calculate loss on batch\n",
    "    \n",
    "    outputs = model.predict_on_batch(X)\n",
    "    predicted = np.squeeze(np.array(outputs))\n",
    "\n",
    "    #if (i < 2):\n",
    "        #make_batch_plots(X,true,preds.exp().detach(),epochs, i,'test', outdir=model_dir)\n",
    "    make_batch_plots(X,true,predicted,epochs, i+1,'test',classes, outdir=model_dir)\n",
    "        \n",
    "    \n",
    "    counter += len(X)\n",
    "\n",
    "print('\\nPredictions finished in '+str(time.time()-start_time)+'s')\n"
   ]
  },
  {
   "cell_type": "markdown",
   "metadata": {},
   "source": [
    "### Plot predictions on test set\n"
   ]
  },
  {
   "cell_type": "code",
   "execution_count": 10,
   "metadata": {},
   "outputs": [],
   "source": [
    "X = np.expand_dims(testX, axis = 1)\n",
    "Y = testY \n",
    "add_norm_CO(X)\n",
    "#X = X * weight \n",
    "\n",
    "\n",
    "outputs = model.predict_on_batch(X)\n",
    "probs = np.squeeze(np.array(outputs))\n",
    "preds = np.squeeze(np.round(outputs))\n",
    "#print (preds)\n",
    "#print (probs)\n",
    "#print (testY)\n",
    "#print(testX.shape)"
   ]
  },
  {
   "cell_type": "code",
   "execution_count": 11,
   "metadata": {},
   "outputs": [],
   "source": [
    "def rand_by_mask(mask): return np.random.choice(np.where(mask)[0], min(len(preds), 10), replace=False)\n",
    "def rand_by_correct(is_correct): return rand_by_mask((preds == testY)==is_correct)\n",
    "def plots(ims, figsize=(12,6), rows=1, titles=None):\n",
    "    f = plt.figure(figsize=figsize)\n",
    "    txt_colors = ['red','green']\n",
    "    for i in range(len(ims)):\n",
    "        sp = f.add_subplot(rows, max(len(ims)//rows,10), i+1)\n",
    "        sp.axis('Off')\n",
    "        sp.imshow(testX[ims[i]], cmap = cm.gray)\n",
    "        if titles is not None: sp.set_title(f'true={titles[i][1]: 0.2f} \\n pred={ titles[i][0]: 0.3f}', fontsize=10, color =txt_colors[titles[i][1]] )\n",
    "        "
   ]
  },
  {
   "cell_type": "code",
   "execution_count": 12,
   "metadata": {},
   "outputs": [],
   "source": [
    "def plot_test_with_title(idxs, title):\n",
    "    imgs = [x for x in idxs]\n",
    "    title_probs = [(probs[x], testY[x]) for x in idxs]\n",
    "    print(title)\n",
    "    return plots(imgs, rows=1, titles=title_probs, figsize=(16,8)) if len(imgs)>0 else print('Not Found.')"
   ]
  },
  {
   "cell_type": "code",
   "execution_count": 13,
   "metadata": {},
   "outputs": [],
   "source": [
    "def most_by_mask(mask, mult):\n",
    "    idxs = np.where(mask)[0]\n",
    "    return idxs[np.argsort(mult * probs[idxs])[:10]]\n",
    "\n",
    "def most_by_correct(y, is_correct): \n",
    "    mult = -1 if (y==1)==is_correct else 1\n",
    "    return most_by_mask(((preds == testY)==is_correct) & (testY == y), mult)\n",
    "    #return most_by_mask((preds == testY), mult)\n",
    "\n",
    "def worst_predicted(y):\n",
    "    mult = -1 if (y==0) else 1\n",
    "    idxs = np.where(testY == y)[0]\n",
    "    return idxs[np.argsort(mult*probs[idxs])[:10]]"
   ]
  },
  {
   "cell_type": "code",
   "execution_count": 14,
   "metadata": {},
   "outputs": [
    {
     "name": "stdout",
     "output_type": "stream",
     "text": [
      "Correctly classified [random samples]\n"
     ]
    },
    {
     "data": {
      "image/png": "[encoded data removed]",
      "text/plain": [
       "<Figure size 1152x576 with 10 Axes>"
      ]
     },
     "metadata": {
      "needs_background": "light"
     },
     "output_type": "display_data"
    }
   ],
   "source": [
    "# A few correct labels at random\n",
    "plot_test_with_title(rand_by_correct(True), \"Correctly classified [random samples]\")\n",
    "save_name = f'Correctly classified_random.png'\n",
    "plt.savefig(save_dir+save_name, bbox_inches='tight', dpi=200)\n",
    "plt.show()\n",
    "plt.close()"
   ]
  },
  {
   "cell_type": "code",
   "execution_count": 15,
   "metadata": {},
   "outputs": [
    {
     "name": "stdout",
     "output_type": "stream",
     "text": [
      "Best predicted bad CO-tips\n"
     ]
    },
    {
     "data": {
      "image/png": "[encoded data removed]",
      "text/plain": [
       "<Figure size 1152x576 with 10 Axes>"
      ]
     },
     "metadata": {
      "needs_background": "light"
     },
     "output_type": "display_data"
    }
   ],
   "source": [
    "plot_test_with_title(most_by_correct(0, True), \"Best predicted bad CO-tips\")\n",
    "save_name = f'best_predicted_bads.png'\n",
    "plt.savefig(save_dir+save_name, bbox_inches='tight', dpi=200)\n",
    "plt.show()\n",
    "plt.close()"
   ]
  },
  {
   "cell_type": "code",
   "execution_count": 16,
   "metadata": {},
   "outputs": [
    {
     "name": "stdout",
     "output_type": "stream",
     "text": [
      "Best predicted good CO-tips\n"
     ]
    },
    {
     "data": {
      "image/png": "[encoded data removed]",
      "text/plain": [
       "<Figure size 1152x576 with 10 Axes>"
      ]
     },
     "metadata": {
      "needs_background": "light"
     },
     "output_type": "display_data"
    }
   ],
   "source": [
    "plot_test_with_title(most_by_correct(1, True), \"Best predicted good CO-tips\")\n",
    "save_name = f'best_predicted_goods.png'\n",
    "plt.savefig(save_dir+save_name, bbox_inches='tight', dpi=200)\n",
    "plt.show()\n",
    "plt.close()"
   ]
  },
  {
   "cell_type": "code",
   "execution_count": 17,
   "metadata": {},
   "outputs": [
    {
     "name": "stdout",
     "output_type": "stream",
     "text": [
      "Worst predicted bad CO-tips\n"
     ]
    },
    {
     "data": {
      "image/png": "[encoded data removed]",
      "text/plain": [
       "<Figure size 1152x576 with 10 Axes>"
      ]
     },
     "metadata": {
      "needs_background": "light"
     },
     "output_type": "display_data"
    }
   ],
   "source": [
    "plot_test_with_title(worst_predicted(0), \"Worst predicted bad CO-tips\")\n",
    "save_name = f'worst_predicted_bads.png'\n",
    "plt.savefig(save_dir+save_name, bbox_inches='tight', dpi=200)\n",
    "plt.show()\n",
    "plt.close()"
   ]
  },
  {
   "cell_type": "code",
   "execution_count": 18,
   "metadata": {},
   "outputs": [
    {
     "name": "stdout",
     "output_type": "stream",
     "text": [
      "Worst predicted good CO-tips\n"
     ]
    },
    {
     "data": {
      "image/png": "[encoded data removed]",
      "text/plain": [
       "<Figure size 1152x576 with 10 Axes>"
      ]
     },
     "metadata": {
      "needs_background": "light"
     },
     "output_type": "display_data"
    }
   ],
   "source": [
    "plot_test_with_title(worst_predicted(1),  \"Worst predicted good CO-tips\")\n",
    "save_name = f'worst_predicted_goods.png'\n",
    "plt.savefig(save_dir+save_name, bbox_inches='tight', dpi=200)\n",
    "plt.show()\n",
    "plt.close()"
   ]
  },
  {
   "cell_type": "code",
   "execution_count": 19,
   "metadata": {},
   "outputs": [
    {
     "name": "stdout",
     "output_type": "stream",
     "text": [
      "most_uncertain =  [33 32 15  1 31 19  6 21 23 24]\n",
      "Most uncertain predictions\n"
     ]
    },
    {
     "data": {
      "image/png": "[encoded data removed]",
      "text/plain": [
       "<Figure size 1152x576 with 10 Axes>"
      ]
     },
     "metadata": {
      "needs_background": "light"
     },
     "output_type": "display_data"
    }
   ],
   "source": [
    "most_uncertain = np.argsort(np.abs(probs -0.5))[:10]\n",
    "print ('most_uncertain = ', most_uncertain)\n",
    "plot_test_with_title(most_uncertain, \"Most uncertain predictions\")\n",
    "save_name = f'most_uncertain.png'\n",
    "plt.savefig(save_dir+save_name, bbox_inches='tight', dpi=200)\n",
    "plt.show()\n",
    "plt.close()"
   ]
  },
  {
   "cell_type": "markdown",
   "metadata": {
    "colab_type": "text",
    "id": "h3MFjHdzQ_cd"
   },
   "source": [
    "### Loss and accuracy at training"
   ]
  },
  {
   "cell_type": "code",
   "execution_count": 20,
   "metadata": {
    "colab": {
     "base_uri": "https://localhost:8080/",
     "height": 317
    },
    "colab_type": "code",
    "executionInfo": {
     "elapsed": 1572,
     "status": "ok",
     "timestamp": 1590649679231,
     "user": {
      "displayName": "Zigzag13 Mak13",
      "photoUrl": "",
      "userId": "17521176493425296049"
     },
     "user_tz": -180
    },
    "id": "8hFWDkZQB_bb",
    "outputId": "00d655b1-49c7-4bc7-9e8a-11e80b1ffcbb"
   },
   "outputs": [
    {
     "data": {
      "image/png": "[encoded data removed]",
      "text/plain": [
       "<IPython.core.display.Image object>"
      ]
     },
     "execution_count": 20,
     "metadata": {
      "image/png": {
       "height": 300
      }
     },
     "output_type": "execute_result"
    }
   ],
   "source": [
    "from IPython.display import Image\n",
    "Image(save_dir+'/loss_history_class.png', height=300)"
   ]
  },
  {
   "cell_type": "code",
   "execution_count": 21,
   "metadata": {
    "colab": {
     "base_uri": "https://localhost:8080/",
     "height": 317
    },
    "colab_type": "code",
    "executionInfo": {
     "elapsed": 1245,
     "status": "ok",
     "timestamp": 1590649688894,
     "user": {
      "displayName": "Zigzag13 Mak13",
      "photoUrl": "",
      "userId": "17521176493425296049"
     },
     "user_tz": -180
    },
    "id": "Owtk8IQiCKlh",
    "outputId": "a18c2706-7a24-4f50-b759-4bb4015001c0"
   },
   "outputs": [
    {
     "data": {
      "image/png": "[encoded data removed]",
      "text/plain": [
       "<IPython.core.display.Image object>"
      ]
     },
     "execution_count": 21,
     "metadata": {
      "image/png": {
       "height": 300
      }
     },
     "output_type": "execute_result"
    }
   ],
   "source": [
    "from IPython.display import Image\n",
    "Image(save_dir+'/accu_history_class.png', height=300)"
   ]
  },
  {
   "cell_type": "code",
   "execution_count": 41,
   "metadata": {},
   "outputs": [],
   "source": [
    "!conda env export > environment.yml"
   ]
  },
  {
   "cell_type": "code",
   "execution_count": null,
   "metadata": {},
   "outputs": [],
   "source": []
  }
 ],
 "metadata": {
  "accelerator": "GPU",
  "colab": {
   "authorship_tag": "ABX9TyMr9K8NdlsV41UO8GEL8I1d",
   "collapsed_sections": [
    "eRPoSx89oDiy",
    "n0_2EFDHhvfz",
    "6s_zy_WIfUP5"
   ],
   "name": "train_CO_tips.ipynb",
   "provenance": []
  },
  "kernelspec": {
   "display_name": "Python 3",
   "language": "python",
   "name": "python3"
  },
  "language_info": {
   "codemirror_mode": {
    "name": "ipython",
    "version": 3
   },
   "file_extension": ".py",
   "mimetype": "text/x-python",
   "name": "python",
   "nbconvert_exporter": "python",
   "pygments_lexer": "ipython3",
   "version": "3.6.1"
  }
 },
 "nbformat": 4,
 "nbformat_minor": 1
}
